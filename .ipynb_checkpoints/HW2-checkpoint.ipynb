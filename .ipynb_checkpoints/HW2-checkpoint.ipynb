{
 "cells": [
  {
   "cell_type": "markdown",
   "metadata": {},
   "source": [
    "# Imports"
   ]
  },
  {
   "cell_type": "code",
   "execution_count": 5,
   "metadata": {},
   "outputs": [],
   "source": [
    "%matplotlib inline\n",
    "import numpy as np\n",
    "import pandas as pd\n",
    "import matplotlib.pyplot as plt\n",
    "from sklearn import metrics\n",
    "from sklearn.cluster import KMeans\n",
    "from sklearn.mixture import GaussianMixture\n",
    "from sklearn.ensemble import AdaBoostClassifier\n",
    "from sklearn.ensemble import RandomForestClassifier, RandomForestRegressor\n",
    "from sklearn.model_selection import RandomizedSearchCV, GridSearchCV\n",
    "\n",
    "from sklearn.metrics import confusion_matrix\n",
    "import itertools\n",
    "\n",
    "# Set random seed to ensure reproducible runs\n",
    "RSEED = 50"
   ]
  },
  {
   "cell_type": "markdown",
   "metadata": {},
   "source": [
    "# Load Train + Validation Data\n",
    "## Election 21"
   ]
  },
  {
   "cell_type": "code",
   "execution_count": 256,
   "metadata": {},
   "outputs": [
    {
     "name": "stdout",
     "output_type": "stream",
     "text": [
      "Train data with localities and polling stations \n",
      "\n",
      "(10765, 50)\n",
      "              שם ישוב  סמל ישוב  מספר קלפי  בזב  מצביעים  פסולים  כשרים  אמת  \\\n",
      "0  אבו ג'ווייעד (שבט)       967        1.0  546       64       2     62    2   \n",
      "1  אבו ג'ווייעד (שבט)       967        2.0  739      113       2    111    2   \n",
      "2  אבו ג'ווייעד (שבט)       967        3.0  630       98       1     97    1   \n",
      "3             אבו גוש       472        1.0  518      197       6    191    4   \n",
      "4             אבו גוש       472        2.0  679      290       3    287    7   \n",
      "\n",
      "   ג  דעם  ...  צק  ץ  ץז  ץי  ק  קי  קן  קף  ר  שס  \n",
      "0  0   31  ...   0  0   0   0  0   0   1   0  0   0  \n",
      "1  0   69  ...   0  0   0   0  0   2   0   0  0   0  \n",
      "2  0   75  ...   0  0   0   0  0   0   0   0  0   0  \n",
      "3  0   36  ...   0  1   0   0  1   0   0   0  0   1  \n",
      "4  0   69  ...   0  0   0   0  0   0   0   1  0   2  \n",
      "\n",
      "[5 rows x 50 columns]\n",
      "\n",
      "\n",
      "Train data with localities only \n",
      "\n",
      "(1214, 49)\n",
      "   שם ישוב  סמל ישוב  בזב  מצביעים  פסולים  כשרים  אמת  ג  דעם  ום  ...  צק  \\\n",
      "0      שחר         7  516      371       0    371   17  2    0   0  ...   0   \n",
      "1    תירוש        10  333      237       2    235    4  3    0   0  ...   0   \n",
      "2  ניר ח\"ן        11  403      289       1    288   21  0    0   0  ...   0   \n",
      "3     חצבה        13  502      403       0    403   44  2    0   0  ...   0   \n",
      "4     נועם        15  302      217       2    215    1  4    0   0  ...   0   \n",
      "\n",
      "   ץ  ץז  ץי  ק  קי  קן  קף  ר  שס  \n",
      "0  0   0   0  0   0   0   0  0  33  \n",
      "1  0   0   0  0   0   0   0  0  73  \n",
      "2  0   0   0  0   0   0   0  0   2  \n",
      "3  0   0   0  3   0   0   0  0   2  \n",
      "4  0   0   0  0   0   0   0  0  25  \n",
      "\n",
      "[5 rows x 49 columns]\n"
     ]
    }
   ],
   "source": [
    "df_21 = pd.read_csv(\"datasets/expb_21.csv\", encoding= 'Windows-1255')#.rename(columns=names_map) #.rename(index=index_names)\n",
    "print(\"Train data with localities and polling stations \\n\")\n",
    "print(df_21.shape)\n",
    "print(df_21.head())\n",
    "\n",
    "X_21 = df_21.values\n",
    "\n",
    "\n",
    "df_c_21 = pd.read_csv(\"datasets/expc_21.csv\", encoding= 'Windows-1255')#.rename(columns=names_map) #.rename(index=index_names)\n",
    "print(\"\\n\\nTrain data with localities only \\n\")\n",
    "print(df_c_21.shape)\n",
    "print(df_c_21.head())\n",
    "\n",
    "X_c_21 = df_c_21.values"
   ]
  },
  {
   "cell_type": "markdown",
   "metadata": {},
   "source": [
    "## Election 22"
   ]
  },
  {
   "cell_type": "code",
   "execution_count": 257,
   "metadata": {},
   "outputs": [
    {
     "name": "stdout",
     "output_type": "stream",
     "text": [
      "Train data with localities and polling stations \n",
      "\n",
      "(10901, 43)\n",
      "   סמל ועדה  ברזל             שם ישוב  סמל ישוב  קלפי  ריכוז  שופט  בזב  \\\n",
      "0        18  9797  אבו ג'ווייעד (שבט)       967   1.0      1     0  559   \n",
      "1        18  9798  אבו ג'ווייעד (שבט)       967   2.0      1     0  751   \n",
      "2        18  9799  אבו ג'ווייעד (שבט)       967   3.0      1     0  651   \n",
      "3         2   733             אבו גוש       472   1.0      1     0  525   \n",
      "4         2   734             אבו גוש       472   2.0      1     0  686   \n",
      "\n",
      "   מצביעים  פסולים  ...  פה  ףז  צ  צן  ץ  ק  קך  קץ  רק  שס  \n",
      "0      113       2  ...   9   0  0   0  0  1   0   0   0   0  \n",
      "1      224       1  ...  12   0  0   0  0  1   1   0   0   0  \n",
      "2      205       6  ...   1   0  0   0  0  1   0   0   0   0  \n",
      "3      268       3  ...  25   0  1   0  0  0   0   0   0   5  \n",
      "4      363       6  ...  33   0  0   0  0  2   1   0   0   6  \n",
      "\n",
      "[5 rows x 43 columns]\n",
      "\n",
      "\n",
      "Train data with localities only \n",
      "\n",
      "(1214, 39)\n",
      "   סמל ועדה  שם ישוב  סמל ישוב  בזב  מצביעים  פסולים  כשרים  אמת  ג  ודעם  \\\n",
      "0        17      שחר         7  517      377       0    377   31  8     0   \n",
      "1         2    תירוש        10  332      245       0    245    1  4     0   \n",
      "2        17  ניר ח\"ן        11  406      287       0    287   32  1     1   \n",
      "3        18     חצבה        13  502      373       0    373   24  2     0   \n",
      "4        17     נועם        15  308      228       1    227    1  4     0   \n",
      "\n",
      "   ...   פה  ףז  צ  צן  ץ  ק  קך  קץ  רק   שס  \n",
      "0  ...   98   0  0   0  0  0   0   0   0   39  \n",
      "1  ...    6   0  0   0  0  0   0   0   0  104  \n",
      "2  ...   94   0  0   0  0  0   0   0   0    4  \n",
      "3  ...  216   0  0   0  0  2   0   0   0    1  \n",
      "4  ...   13   0  0   0  0  0   0   0   0   36  \n",
      "\n",
      "[5 rows x 39 columns]\n"
     ]
    }
   ],
   "source": [
    "index_names={0:\"Locality Name\", 1:\"Locality Code\", 2:\"Polling Num\", 3:\"BzB\", 4:\"Electors\", 5:\"Disqualified\", 6:\"Qualified\", \n",
    "             7:\"...\"}\n",
    "\n",
    "names_map={'שם ישוב':\"Locality Name\", \n",
    "           'סמל ישוב':\"Locality Code\", \n",
    "           'קלפי':\"Polling Num\", \n",
    "           'בזב':\"BzB\", \n",
    "           'מצביעים':\"Electors\", \n",
    "           'פסולים':\"Disqualified\", \n",
    "           'כשרים':\"Qualified\",\n",
    "          } \n",
    "\n",
    "df_22 = pd.read_csv(\"datasets/expb_22.csv\", encoding= 'Windows-1255')#.rename(columns=names_map) #.rename(index=index_names)\n",
    "print(\"Train data with localities and polling stations \\n\")\n",
    "print(df_22.shape)\n",
    "print(df_22.head())\n",
    "\n",
    "X_22 = df_22.values\n",
    "\n",
    "\n",
    "df_c_22 = pd.read_csv(\"datasets/expc_22.csv\", encoding= 'Windows-1255')#.rename(columns=names_map) #.rename(index=index_names)\n",
    "print(\"\\n\\nTrain data with localities only \\n\")\n",
    "print(df_c_22.shape)\n",
    "print(df_c_22.head())\n",
    "\n",
    "X_c_22 = df_c_22.values\n",
    "\n"
   ]
  },
  {
   "cell_type": "markdown",
   "metadata": {},
   "source": [
    "## Join Train and Validation data together from elections 21+22"
   ]
  },
  {
   "cell_type": "code",
   "execution_count": 260,
   "metadata": {},
   "outputs": [
    {
     "name": "stdout",
     "output_type": "stream",
     "text": [
      "Train data:  (1214, 39) \n",
      " [[17 'שחר' 7 ... 0 0 39]\n",
      " [2 'תירוש' 10 ... 0 0 104]\n",
      " [17 'ניר ח\"ן' 11 ... 0 0 4]\n",
      " ...\n",
      " [19 'הוד השרון' 9700 ... 0 7 858]\n",
      " [9 'בנימינה-גבעת עדה' 9800 ... 0 2 118]\n",
      " [99 'מעטפות חיצוניות' 9999 ... 67 180 17598]]\n"
     ]
    }
   ],
   "source": [
    "X_train = X_c_22 #np.concatenate((X_21, X_22), axis=0)\n",
    "print(\"Train data: \", X_train.shape, \"\\n\", X_train)"
   ]
  },
  {
   "cell_type": "markdown",
   "metadata": {},
   "source": [
    "# Load Test Data"
   ]
  },
  {
   "cell_type": "code",
   "execution_count": 258,
   "metadata": {},
   "outputs": [
    {
     "name": "stdout",
     "output_type": "stream",
     "text": [
      "Test data with localities and polling stations \n",
      "\n",
      "(11179, 41)\n",
      "   סמל ועדה  ברזל          שם ישוב  סמל ישוב  קלפי  ריכוז  שופט  בזב  מצביעים  \\\n",
      "0        18  9870  אבו גווייעד שבט       967   1.0      1     0  585      126   \n",
      "1        18  9871  אבו גווייעד שבט       967   2.0      1     0  764      249   \n",
      "2        18  9872  אבו גווייעד שבט       967   3.0      1     0  669      220   \n",
      "3         2   736          אבו גוש       472   1.0      1     0  530      299   \n",
      "4         2   737          אבו גוש       472   2.0      1     0  693      388   \n",
      "\n",
      "   פסולים  ...  נץ  נק  פה  ףז  ץ  ק  קי  קך  קץ  שס  \n",
      "0       2  ...   0   0   6   1  0  0   0   0   0   2  \n",
      "1       2  ...   0   0   0   0  0  0   0   0   2   0  \n",
      "2       2  ...   0   0   2   1  0  0   0   0   0   0  \n",
      "3       7  ...   0   0  11   0  0  0   0   0   0   2  \n",
      "4       6  ...   0   0  18   0  0  0   0   0   1   0  \n",
      "\n",
      "[5 rows x 41 columns]\n",
      "[[18 9870 967 ... 0 0 2]\n",
      " [18 9871 967 ... 0 2 0]\n",
      " [18 9872 967 ... 0 0 0]\n",
      " ...\n",
      " [18 10069 970 ... 0 0 0]\n",
      " [18 10070 1346 ... 0 0 0]\n",
      " [2 960 778 ... 0 0 47]]\n",
      "Test data with localities only \n",
      "\n",
      "(1214, 37)\n",
      "   סמל ועדה          שם ישוב  סמל ישוב   בזב  מצביעים  פסולים  כשרים  אמת  ג  \\\n",
      "0        18  אבו גווייעד שבט       967  2018      595       6    589   13  0   \n",
      "1         2          אבו גוש       472  4821     2718      36   2682   75  4   \n",
      "2         6         אבו סנאן       473  9422     6090      53   6037   92  6   \n",
      "3        18    אבו עבדון שבט       958   142       41       1     40    0  0   \n",
      "4        18  אבו קורינאת שבט       968  3037     1336       8   1328    9  0   \n",
      "\n",
      "   ודעם  ...  נץ  נק   פה  ףז  ץ  ק  קי  קך  קץ   שס  \n",
      "0   554  ...   0   0    8   2  0  0   0   0   2    2  \n",
      "1  2157  ...   3   2  123   0  2  0   0   1   4   14  \n",
      "2  4458  ...   3   3  752   0  2  2   1   2   4  247  \n",
      "3    40  ...   0   0    0   0  0  0   0   0   0    0  \n",
      "4  1263  ...   1   0   33   0  2  1   0   2   1    0  \n",
      "\n",
      "[5 rows x 37 columns]\n",
      "[[18 9870 967 ... 0 0 2]\n",
      " [18 9871 967 ... 0 2 0]\n",
      " [18 9872 967 ... 0 0 0]\n",
      " ...\n",
      " [18 10069 970 ... 0 0 0]\n",
      " [18 10070 1346 ... 0 0 0]\n",
      " [2 960 778 ... 0 0 47]]\n"
     ]
    }
   ],
   "source": [
    "df_23 = pd.read_csv(\"datasets/expb_23.csv\", encoding= 'Windows-1255') #.drop([''], axis=1)\n",
    "df_23 = df_23.iloc[:, :-1] #removing empty column at the end\n",
    "print(\"Test data with localities and polling stations \\n\")\n",
    "print(df_23.shape)\n",
    "print(df_23.head())\n",
    "\n",
    "X_test = df_23.values\n",
    "X_test = np.delete(X_test,[2],1) # drop Locality name column\n",
    "\n",
    "print(X_23)\n",
    "\n",
    "# df_23_grouped = df_23.groupby('סמל ישוב')['מצביעים', 'כשרים'].sum() # .agg({'מצביעים':'sum'}) #.reset_index()\n",
    "# print(df_23_grouped.shape)\n",
    "# print(df_23_grouped)\n",
    "\n",
    "print(\"\\n\\nTest data with localities only \\n\")\n",
    "df_c_23 = pd.read_csv(\"datasets/expc_23.csv\", encoding= 'Windows-1255')\n",
    "df_c_23 = df_c_23.iloc[:, :-1] #removing empty column at the end\n",
    "print(df_c_23.shape)\n",
    "print(df_c_23.head())\n",
    "\n",
    "X_c_test = df_23.values\n",
    "X_c_test = np.delete(X_c_test,[2],1) # drop Locality name column\n",
    "print(X_c_test)"
   ]
  },
  {
   "cell_type": "markdown",
   "metadata": {},
   "source": [
    "Grouping parties by blocks (Right, Center, Left) - Election 21"
   ]
  },
  {
   "cell_type": "code",
   "execution_count": 277,
   "metadata": {},
   "outputs": [
    {
     "name": "stdout",
     "output_type": "stream",
     "text": [
      "(1214, 4)\n",
      "   סמל ישוב  Center Block  Left Block  Right Block\n",
      "0         7           108          17          237\n",
      "1        10             6           4          224\n",
      "2        11           123          21          134\n",
      "3        13           258          47           81\n",
      "4        15             7           1          207\n"
     ]
    }
   ],
   "source": [
    "groupby_dict = {\n",
    "                'נ':'Right Block', \n",
    "                'ז':'Right Block',\n",
    "                'זך':'Right Block',\n",
    "                'ל':'Right Block',\n",
    "                'ג':'Right Block', \n",
    "                'ףץ':'Right Block',\n",
    "                'קי':'Right Block',\n",
    "                'יץ':'Right Block',\n",
    "                'יז':'Right Block',\n",
    "                'כ':'Right Block',\n",
    "                'מחל':'Right Block',\n",
    "                'זץ':'Right Block',\n",
    "                'טב':'Right Block',\n",
    "                'שס':'Right Block',\n",
    "                'זנ':'Right Block',\n",
    "    \n",
    "                'ץ':'Center Block',\n",
    "                'קן':'Center Block',\n",
    "                'נץ':'Center Block',\n",
    "                'קף':'Center Block',\n",
    "                'נר':'Center Block',\n",
    "                'ץי':'Center Block',\n",
    "                'פה':'Center Block',\n",
    "                'זי':'Center Block',\n",
    "                'ףך':'Center Block',\n",
    "                'ךק':'Center Block',\n",
    "    \n",
    "                'ן':'Left Block',\n",
    "                'ין':'Left Block',\n",
    "                'ק':'Left Block',\n",
    "                'צק':'Left Block',\n",
    "                'י':'Left Block',\n",
    "                'ףז':'Left Block',\n",
    "                'ףי':'Left Block',\n",
    "                'ןנ':'Left Block',\n",
    "                'נז':'Left Block',\n",
    "                'ןך':'Left Block',\n",
    "                'ףנ':'Left Block',\n",
    "                'ץז':'Left Block',\n",
    "                'ר':'Left Block',\n",
    "                'אמת':'Left Block',\n",
    "                'נך':'Left Block',\n",
    "                'מרץ':'Left Block',\n",
    "                'דעם':'Left Block',\n",
    "                'ום':'Left Block'\n",
    "               }\n",
    "\n",
    "df_blocks_21 = df_c_21.groupby(groupby_dict, axis = 1).sum() #.reset_index()\n",
    "# print(df_blocks_22.shape)\n",
    "# print(df_blocks_22.head())\n",
    "\n",
    "result_21 = pd.concat([df_c_21.iloc[:,[1]], df_blocks_21], axis=1)\n",
    "print(result_21.shape)\n",
    "print(result_21.head())"
   ]
  },
  {
   "cell_type": "markdown",
   "metadata": {},
   "source": [
    "Grouping parties by blocks (Right, Center, Left) - Election 22"
   ]
  },
  {
   "cell_type": "code",
   "execution_count": 279,
   "metadata": {},
   "outputs": [
    {
     "name": "stdout",
     "output_type": "stream",
     "text": [
      "(1214, 4)\n",
      "   סמל ישוב  Center Block  Left Block  Right Block\n",
      "0         7            98          31          217\n",
      "1        10             6           1          217\n",
      "2        11            95          33           90\n",
      "3        13           216          24           67\n",
      "4        15            13           1          211\n"
     ]
    }
   ],
   "source": [
    "\n",
    "groupby_dict = {\n",
    "                'ג':'Right Block', \n",
    "                'הי':'Right Block',\n",
    "                'הפ':'Right Block',\n",
    "                'ז':'Right Block',\n",
    "                'זך':'Right Block', \n",
    "                'טב':'Right Block',\n",
    "                'כף':'Right Block',\n",
    "                'ל':'Right Block',\n",
    "                'מחל':'Right Block',\n",
    "                'שס':'Right Block',\n",
    "    \n",
    "                'יק':'Center Block',\n",
    "                'כ':'Center Block',\n",
    "                'כן':'Center Block',\n",
    "                'נ':'Center Block',\n",
    "                'ני':'Center Block',\n",
    "                'נץ':'Center Block',\n",
    "                'פה':'Center Block',\n",
    "                'פנ':'Center Block',\n",
    "                'צ':'Center Block',\n",
    "    \n",
    "                'אמת':'Left Block',\n",
    "                'הק':'Left Block',\n",
    "                'ודעם':'Left Block',\n",
    "                'מרץ':'Left Block',\n",
    "                'נק':'Left Block',\n",
    "                'ףז':'Left Block',\n",
    "                'פי':'Left Block',\n",
    "                'פץ':'Left Block',\n",
    "                'נק':'Left Block',\n",
    "                'צפ':'Left Block',\n",
    "                'צק':'Left Block',\n",
    "                'ץ':'Left Block',\n",
    "                'קנ':'Left Block',\n",
    "                'רק':'Left Block'\n",
    "               }\n",
    "\n",
    "df_blocks_22 = df_c_22.groupby(groupby_dict, axis = 1).sum() #.reset_index()\n",
    "# print(df_blocks_22.shape)\n",
    "# print(df_blocks_22.head())\n",
    "\n",
    "result_22 = pd.concat([df_c_22.iloc[:,[2]], df_blocks_22], axis=1)\n",
    "print(result_22.shape)\n",
    "print(result_22.head())"
   ]
  },
  {
   "cell_type": "markdown",
   "metadata": {},
   "source": [
    "Joining both elections 21 + 22 togrther"
   ]
  },
  {
   "cell_type": "code",
   "execution_count": 286,
   "metadata": {},
   "outputs": [
    {
     "name": "stdout",
     "output_type": "stream",
     "text": [
      "Train data:  (2428, 4) \n",
      "    סמל ישוב  Center Block  Left Block  Right Block\n",
      "0         7           108          17          237\n",
      "1        10             6           4          224\n",
      "2        11           123          21          134\n",
      "3        13           258          47           81\n",
      "4        15             7           1          207\n"
     ]
    }
   ],
   "source": [
    "# result = np.concatenate((result_21, result_22), axis=0)\n",
    "result = pd.concat([result_21, result_22], axis=0)\n",
    "print(\"Train data: \", result.shape, \"\\n\", result.head())"
   ]
  },
  {
   "cell_type": "markdown",
   "metadata": {},
   "source": [
    "# Load Localities Data"
   ]
  },
  {
   "cell_type": "code",
   "execution_count": 282,
   "metadata": {},
   "outputs": [
    {
     "name": "stdout",
     "output_type": "stream",
     "text": [
      "   סמל ישוב  צורת יישוב שוטפת\n",
      "0       967               460\n",
      "1       472               280\n",
      "2       473               270\n",
      "3       935               460\n",
      "4       958               460\n"
     ]
    }
   ],
   "source": [
    "bycode_df = pd.read_excel(\"datasets/bycode2018.xlsx\", usecols=[1, 14]) # עמודות: סמל ישוב + צורת יישוב שוטפת\n",
    "print(bycode_df.head())\n",
    "# print(bycode_df.iloc[:, [1,14]])\n",
    "# cities = bycode_df.values[:,[1,14]] # סמל ישוב + צורת ישוב\n",
    "# print(cities.shape)\n",
    "# print(cities)"
   ]
  },
  {
   "cell_type": "markdown",
   "metadata": {},
   "source": [
    "# Load Localities Index"
   ]
  },
  {
   "cell_type": "code",
   "execution_count": 283,
   "metadata": {},
   "outputs": [
    {
     "name": "stdout",
     "output_type": "stream",
     "text": [
      "(28, 2)\n",
      "                                           צורת יישוב צורת יישוב שוטפת\n",
      "4                יישובים יהודיים 500,000 תושבים ומעלה              120\n",
      "5              יישובים יהודיים 499,999-200,000 תושבים              130\n",
      "6              יישובים יהודיים 199,999-100,000 תושבים              140\n",
      "7                יישובים יהודיים 99,999-50,000 תושבים              150\n",
      "8             יישובים לא יהודיים 99,999-50,000 תושבים              250\n",
      "9                יישובים יהודיים 49,999-20,000 תושבים              160\n",
      "10            יישובים לא יהודיים 49,999-20,000 תושבים              260\n",
      "11               יישובים יהודיים 19,999-10,000 תושבים              170\n",
      "12            יישובים לא יהודיים 19,999-10,000 תושבים              270\n",
      "13                 יישובים יהודיים 9,999-5,000 תושבים              180\n",
      "14              יישובים לא יהודיים 9,999-5,000 תושבים              280\n",
      "15                 יישובים יהודיים 4,999-2,000 תושבים              190\n",
      "16                          מושבים 4,999-2,000 תושבים              191\n",
      "17                 מושבים שיתופיים 4,999-2,000 תושבים              192\n",
      "18                         קיבוצים 4,999-2,000 תושבים              193\n",
      "19              יישובים לא יהודיים 4,999-2,000 תושבים              290\n",
      "21                                            מושבים               310\n",
      "22                                    מושבים שיתופיים              320\n",
      "23                                            קיבוצים              330\n",
      "24                           יישובים מוסדיים, יהודיים              340\n",
      "25                        יישובים מוסדיים, לא-יהודיים              440\n",
      "26                                   יישובים קהילתיים              370\n",
      "27                      יישובים כפריים אחרים, יהודיים              350\n",
      "28                   יישובים כפריים אחרים, לא-יהודיים              450\n",
      "29  שבטי בדווים (אוכלוסייתם כלולה ב\"גרים מחוץ לייש...              460\n",
      "30  נקודה שאיננה יישוב (האוכלוסייה כלולה ב\"גרים מח...              510\n",
      "31                                        מוקד תעסוקה              520\n",
      "32                                         סמל קיבוצי              530\n"
     ]
    }
   ],
   "source": [
    "# example: DID = pd.read_excel(file1, sheet_name=0, header=None, usecols=[0, 1, 6], names=['A', 'ID', 'B'], \n",
    "# dtype={2:str}, skiprows=10)\n",
    "\n",
    "index_df = pd.read_excel(\"datasets/index 2018.xlsx\", sheet_name='צורת יישוב', header=None, usecols=[0, 2], \n",
    "                         names=['צורת יישוב', 'צורת יישוב שוטפת']) #.rename(index={0: 'סמל ישוב'})\n",
    "index_df = index_df.iloc[3:,:]\n",
    "index_df = index_df.dropna()\n",
    "print(index_df.shape)\n",
    "print(index_df)\n",
    "# print(index_df.columns)\n",
    "# print(index_df.iloc[3:,:])\n",
    "\n",
    "# indexes = index_df.values[:,[0,2]]\n",
    "# print(indexes.shape)\n",
    "# print(indexes)"
   ]
  },
  {
   "cell_type": "markdown",
   "metadata": {},
   "source": [
    "# Data Preperation - Join Dataframes"
   ]
  },
  {
   "cell_type": "code",
   "execution_count": 294,
   "metadata": {},
   "outputs": [
    {
     "name": "stdout",
     "output_type": "stream",
     "text": [
      "(2424, 6)\n",
      "   סמל ישוב  Center Block  Left Block  Right Block צורת יישוב שוטפת צורת יישוב\n",
      "0         7           108          17          237              310    מושבים \n",
      "1         7            98          31          217              310    מושבים \n",
      "2        10             6           4          224              310    מושבים \n",
      "3        10             6           1          217              310    מושבים \n",
      "4        11           123          21          134              310    מושבים \n",
      "--------------------------\n",
      "\n",
      "X_r_train:  [108 98 6 ... 4081 3753 5] \n",
      "X_c_train:  [237 217 224 ... 2223 2180 115] \n",
      "X_l_train:  [17 31 4 ... 796 669 6] \n",
      "y_train:  [310 310 310 ... 170 170 370]\n"
     ]
    }
   ],
   "source": [
    "# dat = df_21.join(bycode_df.set_index('סמל ישוב'), on='סמל ישוב')\n",
    "dat = pd.merge(result, bycode_df, on='סמל ישוב', how='inner') # עמודה 1: סמל ישוב\n",
    "# print(dat.shape)\n",
    "# print(dat)\n",
    "\n",
    "dat = pd.merge(dat, index_df, on='צורת יישוב שוטפת', how='left')\n",
    "print(dat.shape)\n",
    "print(dat.head())\n",
    "\n",
    "X = dat.values[:, :-1] # נתוני הצבעה עבור המפלגות השונות + קוד צורת הישוב\n",
    "# print(X.shape)\n",
    "# print(X)\n",
    "\n",
    "X_r_train = X[:, 1] # גוש הימין\n",
    "X_c_train = X[:, 3] # גוש המרכז\n",
    "X_l_train = X[:, 2] # גוש השמאל\n",
    "y_clust_train = X[:, -1] # קוד צורת ישוב\n",
    "print(\"--------------------------\")\n",
    "print(\"\\nX_r_train: \",X_r_train, \"\\nX_c_train: \",X_c_train, \"\\nX_l_train: \",X_l_train, \"\\ny_train: \", y_clust_train)"
   ]
  },
  {
   "cell_type": "code",
   "execution_count": 319,
   "metadata": {},
   "outputs": [
    {
     "name": "stdout",
     "output_type": "stream",
     "text": [
      "   סמל ישוב  Center Block  Left Block  Right Block צורת יישוב שוטפת צורת יישוב\n",
      "0         7           108          17          237             None       None\n",
      "1         7            98          31          217             None       None\n",
      "2        10             6           4          224             None       None\n",
      "3        10             6           1          217             None       None\n",
      "4        11           123          21          134             None       None\n"
     ]
    }
   ],
   "source": [
    "dict_by_size = {\n",
    "                '310':'Rural locality', \n",
    "                '320':'Rural locality',\n",
    "                '330':'Rural locality',\n",
    "                '340':'Rural locality',\n",
    "                '440':'Rural locality', \n",
    "                '370':'Rural locality',\n",
    "                '350':'Rural locality',\n",
    "                '450':'Rural locality',\n",
    "                '460':'Rural locality',\n",
    "             \n",
    "                '120':'Urban locality', \n",
    "                '130':'Urban locality',\n",
    "                '140':'Urban locality',\n",
    "                '150':'Urban locality',\n",
    "                '160':'Urban locality', \n",
    "                '170':'Urban locality',\n",
    "                '180':'Urban locality',\n",
    "                '190':'Urban locality',\n",
    "                '191':'Urban locality',\n",
    "                '192':'Urban locality',\n",
    "                '193':'Urban locality', \n",
    "                '250':'Urban locality',\n",
    "                '260':'Urban locality',\n",
    "                '270':'Urban locality',\n",
    "                '280':'Urban locality',\n",
    "                '290':'Urban locality',\n",
    "    \n",
    "                '510':'Other place',\n",
    "                '520':'Other place',\n",
    "                '530':'Other place',\n",
    "                }\n",
    "\n",
    "dict_by_nationality = {\n",
    "                250:0, #'Non-Jewish locality', \n",
    "                260:0, #'Non-Jewish locality'\n",
    "                270:0, #'Non-Jewish locality'\n",
    "                280:0, #'Non-Jewish locality'\n",
    "                290:0, #'Non-Jewish locality'\n",
    "                440:0, #'Non-Jewish locality'\n",
    "                450:0, #'Non-Jewish locality'\n",
    "                460:0, #'Non-Jewish locality'\n",
    "             \n",
    "                120:1, #'Jewish locality', \n",
    "                130:1, #'Jewish locality', \n",
    "                140:1, #'Jewish locality', \n",
    "                150:1, #'Jewish locality', \n",
    "                160:1, #'Jewish locality',  \n",
    "                170:1, #'Jewish locality', \n",
    "                180:1, #'Jewish locality', \n",
    "                190:1, #'Jewish locality', \n",
    "                191:1, #'Jewish locality', \n",
    "                192:1, #'Jewish locality', \n",
    "                193:1, #'Jewish locality',  \n",
    "                310:1, #'Jewish locality', \n",
    "                320:1, #'Jewish locality', \n",
    "                330:1, #'Jewish locality', \n",
    "                340:1, #'Jewish locality', \n",
    "                350:1, #'Jewish locality', \n",
    "                370:1, #'Jewish locality', \n",
    "    \n",
    "                510:2, #'Other place',\n",
    "                520:2, #'Other place',\n",
    "                530:2, #'Other place',\n",
    "                }\n",
    "\n",
    "# dat['צורת יישוב שוטפת'].apply(dict_by_nationality.get)\n",
    "# dat['צורת יישוב שוטפת'].map(dict_by_nationality).fillna(dat['צורת יישוב שוטפת'])\n",
    "dat['צורת יישוב שוטפת'].replace({310: 0}, inplace=True)\n",
    "print(dat.head())"
   ]
  },
  {
   "cell_type": "markdown",
   "metadata": {},
   "source": [
    "# 3. Clustering\n",
    "## 3.1. Using GMM"
   ]
  },
  {
   "cell_type": "code",
   "execution_count": 13,
   "metadata": {},
   "outputs": [
    {
     "data": {
      "image/png": "[encoded data removed]",
      "text/plain": [
       "<Figure size 432x288 with 1 Axes>"
      ]
     },
     "metadata": {
      "needs_background": "light"
     },
     "output_type": "display_data"
    },
    {
     "data": {
      "image/png": "[encoded data removed]",
      "text/plain": [
       "<Figure size 432x288 with 1 Axes>"
      ]
     },
     "metadata": {
      "needs_background": "light"
     },
     "output_type": "display_data"
    },
    {
     "data": {
      "image/png": "[encoded data removed]",
      "text/plain": [
       "<Figure size 432x288 with 1 Axes>"
      ]
     },
     "metadata": {
      "needs_background": "light"
     },
     "output_type": "display_data"
    }
   ],
   "source": [
    "gmm = GaussianMixture(n_components=3).fit(X)\n",
    "labels = gmm.predict(X)\n",
    "\n",
    "# plt.scatter(X_train, y_train, s=50);\n",
    "\n",
    "plt.figure(1)\n",
    "plt.scatter(X_r_train, y_clust_train, c=labels, s=50, cmap='viridis');\n",
    "plt.figure(2)\n",
    "plt.scatter(X_c_train, y_clust_train, c=labels, s=50, cmap='viridis');\n",
    "plt.figure(3)\n",
    "plt.scatter(X_l_train, y_clust_train, c=labels, s=50, cmap='viridis');"
   ]
  },
  {
   "cell_type": "markdown",
   "metadata": {},
   "source": [
    "## 3.2. Using KMeans"
   ]
  },
  {
   "cell_type": "code",
   "execution_count": 44,
   "metadata": {},
   "outputs": [],
   "source": [
    "def elbow_met(df):\n",
    "    from scipy.spatial.distance import cdist\n",
    "    # k means determine k\n",
    "    distortions = []\n",
    "    K = range(1,10)\n",
    "    for k in K:\n",
    "        kmeanModel = KMeans(n_clusters=k).fit(df)\n",
    "        kmeanModel.fit(df)\n",
    "        distortions.append(sum(np.min(cdist(df, kmeanModel.cluster_centers_, 'euclidean'), axis=1)) / df.shape[0])\n",
    "\n",
    "    # Plot the elbow\n",
    "    plt.plot(K, distortions, 'bx-')\n",
    "    plt.xlabel('k')\n",
    "    plt.ylabel('Within groups sum of squares')\n",
    "    plt.title('The Elbow Method showing the optimal k')\n",
    "    plt.show()"
   ]
  },
  {
   "cell_type": "code",
   "execution_count": 45,
   "metadata": {},
   "outputs": [
    {
     "data": {
      "image/png": "[encoded data removed]",
      "text/plain": [
       "<Figure size 432x288 with 1 Axes>"
      ]
     },
     "metadata": {
      "needs_background": "light"
     },
     "output_type": "display_data"
    }
   ],
   "source": [
    "elbow_met(X)"
   ]
  },
  {
   "cell_type": "code",
   "execution_count": 14,
   "metadata": {},
   "outputs": [],
   "source": [
    "kmeans = KMeans(n_clusters=3).fit(X) # TODO - number of clusters?\n",
    "centroids = kmeans.cluster_centers_\n",
    "# print(centroids)"
   ]
  },
  {
   "cell_type": "code",
   "execution_count": 16,
   "metadata": {},
   "outputs": [
    {
     "data": {
      "image/png": "[encoded data removed]",
      "text/plain": [
       "<Figure size 432x288 with 1 Axes>"
      ]
     },
     "metadata": {
      "needs_background": "light"
     },
     "output_type": "display_data"
    },
    {
     "data": {
      "image/png": "[encoded data removed]",
      "text/plain": [
       "<Figure size 432x288 with 1 Axes>"
      ]
     },
     "metadata": {
      "needs_background": "light"
     },
     "output_type": "display_data"
    },
    {
     "data": {
      "image/png": "[encoded data removed]",
      "text/plain": [
       "<Figure size 432x288 with 1 Axes>"
      ]
     },
     "metadata": {
      "needs_background": "light"
     },
     "output_type": "display_data"
    }
   ],
   "source": [
    "plt.figure(1)\n",
    "plt.scatter(X_r_train, y_clust_train, c= kmeans.labels_.astype(float), s=50, alpha=0.5)\n",
    "plt.scatter(centroids[:, 0], centroids[:, -1], c='red', s=50)\n",
    "\n",
    "plt.figure(2)\n",
    "plt.scatter(X_c_train, y_clust_train, c= kmeans.labels_.astype(float), s=50, alpha=0.5)\n",
    "plt.scatter(centroids[:, 0], centroids[:, -1], c='red', s=50)\n",
    "\n",
    "plt.figure(3)\n",
    "plt.scatter(X_l_train, y_clust_train, c= kmeans.labels_.astype(float), s=50, alpha=0.5)\n",
    "plt.scatter(centroids[:, 0], centroids[:, -1], c='red', s=50)\n",
    "\n",
    "plt.show()"
   ]
  },
  {
   "cell_type": "markdown",
   "metadata": {},
   "source": [
    "# 4) Random Forest"
   ]
  },
  {
   "cell_type": "code",
   "execution_count": 185,
   "metadata": {},
   "outputs": [
    {
     "name": "stdout",
     "output_type": "stream",
     "text": [
      "X_4_train: \n",
      " (10901, 6) [[967 1.0 1 0 559 113]\n",
      " [967 2.0 1 0 751 224]\n",
      " [967 3.0 1 0 651 205]\n",
      " ...\n",
      " [970 1.0 1 0 511 33]\n",
      " [1346 1.0 1 0 574 210]\n",
      " [778 1.0 1 0 565 452]]\n",
      "y_4_train: \n",
      " (10901,) [111 223 199 ...  33 205 452]\n"
     ]
    }
   ],
   "source": [
    "X_4_train = X[:, 3:9] # נתוני ישוב וקלפי + מספר מצביעים ומספר קולות פסולים\n",
    "y_4_train = X[:, 10] #.ravel() # reshape from (n,1) to (n,) # \n",
    "\n",
    "# Only locality without Calpi\n",
    "# X_4_train = X[:, [2, 4, 5]] # נתוני ישוב + מספר קולות \n",
    "# y_4_train = X[:, 6] #.ravel() # reshape from (n,1) to (n,) # מס קולות כשרים\n",
    "\n",
    "y_4_train = y_4_train.astype('int')\n",
    "# y_4_train = y_4_train.reshape(-1, 1)\n",
    "\n",
    "print(\"X_4_train: \\n\", X_4_train.shape, X_4_train)\n",
    "print(\"y_4_train: \\n\", y_4_train.shape, y_4_train)"
   ]
  },
  {
   "cell_type": "code",
   "execution_count": 187,
   "metadata": {},
   "outputs": [
    {
     "name": "stdout",
     "output_type": "stream",
     "text": [
      "X_4_test:  (534, 6) \n",
      " [[77 1.0 1 0 350 255]\n",
      " [77 2.0 1 0 468 332]\n",
      " [2600 1.0 9 0 459 181]\n",
      " ...\n",
      " [4100 8.0 1 0 643 345]\n",
      " [4100 9.0 1 0 769 513]\n",
      " [4100 10.0 1 0 554 340]]\n",
      "y_4_test:  (534,) [255 330 180 219 238 230 220 182 245 218 309 290 219 213 188 216 187 168\n",
      " 201 279 76 55 174 105 229 157 330 290 347 308 291 342 366 357 317 239 360\n",
      " 235 226 242 282 336 279 321 259 245 219 236 189 207 192 386 168 220 229\n",
      " 308 284 339 135 168 149 206 410 391 373 328 419 248 429 291 373 357 335\n",
      " 362 340 293 347 382 252 271 483 444 482 171 450 239 133 128 388 331 258\n",
      " 289 382 234 341 348 327 328 349 324 271 258 224 328 331 274 262 357 212\n",
      " 288 322 259 159 229 235 169 272 231 291 281 264 227 273 277 255 218 266\n",
      " 160 133 207 274 237 221 168 150 308 235 242 185 354 226 254 393 425 428\n",
      " 423 450 342 380 268 650 224 317 227 351 348 335 226 280 290 224 208 224\n",
      " 405 386 330 334 336 346 284 301 228 352 259 346 456 340 272 355 339 332\n",
      " 420 286 325 276 257 347 348 273 264 270 237 310 344 245 333 355 318 394\n",
      " 275 267 388 293 310 223 260 355 196 257 302 274 320 239 338 360 286 328\n",
      " 432 430 336 468 258 262 315 390 383 391 362 426 425 368 382 409 298 463\n",
      " 380 319 232 347 387 408 376 303 407 307 340 418 407 338 273 403 324 342\n",
      " 251 339 336 322 316 319 315 227 264 305 342 383 258 334 346 330 213 422\n",
      " 448 582 509 454 100 487 451 447 410 413 401 400 412 413 447 352 391 378\n",
      " 378 396 441 400 304 430 552 423 447 463 468 512 391 483 326 275 325 496\n",
      " 288 272 289 400 324 451 283 486 348 433 401 489 266 456 437 426 425 447\n",
      " 423 420 322 473 511 402 495 465 461 445 544 294 430 466 440 436 439 403\n",
      " 459 377 347 456 418 358 419 412 355 369 488 534 392 455 383 397 336 415\n",
      " 379 443 440 467 561 488 273 475 388 475 492 458 499 491 405 315 373 375\n",
      " 261 513 330 276 444 497 448 310 460 367 463 362 386 376 371 385 384 379\n",
      " 386 363 372 386 385 261 408 406 432 412 394 382 351 360 331 334 356 433\n",
      " 345 334 357 316 324 383 266 273 273 244 276 254 178 324 405 300 243 293\n",
      " 235 384 292 352 335 247 358 337 182 283 442 221 566 426 396 547 568 618\n",
      " 461 395 323 267 373 275 311 247 292 344 367 282 372 304 425 257 334 460\n",
      " 448 460 471 450 433 416 450 263 321 253 446 446 453 434 497 408 302 362\n",
      " 390 279 447 484 485 502 329 540 570 571 558 526 531 556 584 612 550 555\n",
      " 610 522 612 619 572 605 631 569 578 644 555 583 540 584 596 578 504 456\n",
      " 574 336 350 310 340 351 343 278 339 511 340]\n"
     ]
    }
   ],
   "source": [
    "# חיפה, איילת השחר, אילת, סכנין וקצרין\n",
    "df_23_filtered = df_23.loc[df_23['שם ישוב'].isin(['קצרין', 'סחנין', 'אילת', 'איילת השחר', 'חיפה'])] \n",
    "# print(df_23_filtered)\n",
    "X_23_filtered = df_23_filtered.values #.drop(['שם ישוב'], axis=1).values\n",
    "\n",
    "X_4_test = X_23_filtered[:, 3:9] #.reshape(-1, 1) # סמל ישוב\n",
    "y_4_test = X_23_filtered[:, 10] # קולות כשרים\n",
    "\n",
    "# Only locality without Calpi\n",
    "# X_4_test = X_23_filtered[:, [2, 4, 5]] #.reshape(-1, 1) # סמל ישוב\n",
    "# y_4_test = X_23_filtered[:, 6] # \n",
    "\n",
    "print(\"X_4_test: \",  X_4_test.shape, \"\\n\", X_4_test)\n",
    "print(\"y_4_test: \",  y_4_test.shape, y_4_test)"
   ]
  },
  {
   "cell_type": "code",
   "execution_count": 188,
   "metadata": {},
   "outputs": [
    {
     "name": "stdout",
     "output_type": "stream",
     "text": [
      "Fitting 5 folds for each of 1 candidates, totalling 5 fits\n"
     ]
    },
    {
     "name": "stderr",
     "output_type": "stream",
     "text": [
      "[Parallel(n_jobs=-1)]: Using backend LokyBackend with 8 concurrent workers.\n",
      "[Parallel(n_jobs=-1)]: Done   2 out of   5 | elapsed:    1.8s remaining:    2.8s\n",
      "[Parallel(n_jobs=-1)]: Done   5 out of   5 | elapsed:    3.0s finished\n"
     ]
    },
    {
     "data": {
      "text/plain": [
       "{'n_estimators': 100,\n",
       " 'min_samples_split': 10,\n",
       " 'max_features': 'sqrt',\n",
       " 'max_depth': 70,\n",
       " 'bootstrap': False}"
      ]
     },
     "execution_count": 188,
     "metadata": {},
     "output_type": "execute_result"
    }
   ],
   "source": [
    "# Hyperparameter grid\n",
    "param_grid = {\n",
    "    'n_estimators': [100, 150, 200, 250],#The number of trees in the forest.\n",
    "    'max_depth': [None, 50, 60, 70] ,#The maximum depth of the tree.\n",
    "    'max_features': ['sqrt', None],#he number of features to consider when looking for the best split\n",
    "    'min_samples_split': [2, 5, 10],#The minimum number of samples required to split an internal node\n",
    "    'bootstrap': [True, False]#Whether bootstrap samples are used when building trees.\n",
    "}\n",
    "\n",
    "# Estimator for use in random search\n",
    "estimator = RandomForestRegressor(random_state = RSEED) #RandomForestClassifier\n",
    "\n",
    "# Create the random search model\n",
    "# rs = RandomizedSearchCV(estimator, param_grid, n_jobs = -1, \n",
    "#                         scoring = 'accuracy', cv = 5, \n",
    "#                         n_iter = 1, verbose = 1, random_state=RSEED)\n",
    "rs = RandomizedSearchCV(estimator, param_grid, n_jobs = -1, cv = 5, \n",
    "                        n_iter = 1, verbose = 1, random_state=RSEED)\n",
    "\n",
    "# Create Decision Tree classifier with best parameters\n",
    "# gs = GridSearchCV(estimator, param_grid, cv=10, scoring='accuracy')\n",
    "\n",
    "\n",
    "# Fit \n",
    "rs.fit(X_4_train, y_4_train)\n",
    "\n",
    "rs.best_params_"
   ]
  },
  {
   "cell_type": "code",
   "execution_count": 189,
   "metadata": {},
   "outputs": [
    {
     "name": "stdout",
     "output_type": "stream",
     "text": [
      "rf_predictions (534,) [251.24805159 333.64369444 182.21959524 212.83286905 229.56453175\n",
      " 225.88756746 221.31824603 180.9822381  240.58234524 210.24824603\n",
      " 307.69371032 295.25689286 217.33429365 213.27567857 188.50205952\n",
      " 214.53444444 188.64844841 171.04349603 207.38011111 276.74737698\n",
      " 100.73327381 102.10823016 174.05002381 114.66669444 227.86435317\n",
      " 166.40470238 324.31466667 290.73619048 347.03994841 303.5161746\n",
      " 294.45765873 340.57737302 367.90253571 355.47708333 314.5465119\n",
      " 238.16892063 358.77678571 231.09085714 226.81995635 239.2371627\n",
      " 284.16314286 336.8155119  280.26931349 320.1353373  254.74713492\n",
      " 242.33586111 223.31679762 234.64694048 200.30513095 217.51576984\n",
      " 192.17635714 383.54210317 173.87394841 218.22051984 226.35069841\n",
      " 303.21240476 279.96537302 338.37285714 158.97013095 172.87527778\n",
      " 158.39186111 204.83366667 407.33523016 392.32646429 371.65111905\n",
      " 324.91462698 416.65373413 242.97415079 429.17948413 286.38101587\n",
      " 370.03305556 355.0390754  331.5225119  358.48696032 342.07786111\n",
      " 287.55786905 344.64790873 383.21059524 253.77018254 269.67668254\n",
      " 481.40189683 443.80512698 483.52960714 168.69223016 447.70096825\n",
      " 238.05803968 150.74012698 149.08725397 387.95136905 328.41205952\n",
      " 255.25559524 285.81405159 388.45829762 234.31513889 347.31793254\n",
      " 346.43457143 329.1462619  327.14712302 347.29636111 322.97772222\n",
      " 271.5295754  253.75548016 229.78414683 331.37632143 329.21469444\n",
      " 268.31278968 264.10340079 349.99057937 226.16131349 287.62649206\n",
      " 320.22029365 263.29552778 168.00964683 228.91811508 236.26944048\n",
      " 174.4543373  271.69511905 227.88029365 293.76551587 283.44794048\n",
      " 268.16240873 231.14265476 265.67305556 276.23055556 253.99817857\n",
      " 222.96866667 262.92844841 157.14426984 142.53207143 215.5651746\n",
      " 274.09024206 241.65896032 230.5902619  171.53613889 163.68389286\n",
      " 308.28079762 241.96716667 247.29459921 192.0343254  355.7070873\n",
      " 225.66638492 255.8284127  393.7357381  421.93818651 428.1456627\n",
      " 421.52905952 449.43568254 344.4614127  380.4367381  266.32823016\n",
      " 642.12175397 220.17869841 313.48158333 228.29834921 344.87840476\n",
      " 344.21793651 330.64569444 229.64683333 286.3646627  290.74355159\n",
      " 223.36310317 210.27997619 231.13465079 407.7303373  388.53985714\n",
      " 329.18760317 337.64696825 341.43386905 344.47192063 280.92350397\n",
      " 300.53336905 224.35484921 353.87245238 254.64140476 345.16229365\n",
      " 453.89930952 336.25485714 272.54479365 355.21109921 336.54645635\n",
      " 331.01802778 425.06244048 286.48869444 321.13375    277.56210317\n",
      " 255.75275    345.20059127 349.69395238 272.09750397 264.21390476\n",
      " 270.62521429 236.99461111 313.03841667 344.01719444 247.17781746\n",
      " 329.97292063 351.25465079 321.00381746 391.59552381 276.59067063\n",
      " 263.89528571 388.13318254 290.72448016 308.52974603 227.36150794\n",
      " 259.21519048 357.70605952 194.45838889 253.42844048 298.48897619\n",
      " 271.51860714 326.65419048 242.23799206 338.16735714 359.83325397\n",
      " 286.52704365 325.96810317 431.82819841 428.62509127 336.80102778\n",
      " 466.43866667 265.15488889 263.98664683 313.5437381  395.54354365\n",
      " 382.82645635 391.91025794 362.03905159 427.87400397 431.47121032\n",
      " 369.97244444 381.82969444 410.06498413 297.42415873 465.52350794\n",
      " 377.51286905 317.41491667 234.84237302 348.91768651 392.18222222\n",
      " 412.32713492 374.82963889 300.12957143 408.30604365 307.01380159\n",
      " 337.46946825 418.13297619 405.51396032 334.96895635 273.18328968\n",
      " 402.96336508 325.55918651 347.05381746 252.57629365 338.255\n",
      " 335.32396429 324.72598413 318.64893651 322.65660317 319.31758333\n",
      " 226.8120119  269.98990079 305.22977778 345.63727381 381.89514683\n",
      " 258.37138889 336.76238889 352.78926587 330.51270238 216.57071825\n",
      " 415.9454246  440.38032143 577.09376587 499.70890476 457.07338095\n",
      " 101.96592063 478.54386905 452.12446825 445.87858333 408.12610317\n",
      " 409.58971429 398.59028175 399.98009127 409.40191667 409.40191667\n",
      " 445.05975    354.45232143 389.33908333 377.83198016 379.76381746\n",
      " 396.11663095 447.49049603 399.57959127 304.16406349 428.79858333\n",
      " 551.64053571 419.80216667 444.77554762 459.00580952 465.74488492\n",
      " 513.08243651 391.17088492 485.91005159 326.99875794 273.65032143\n",
      " 322.89518651 496.27311508 288.70380556 268.09421429 287.97188095\n",
      " 397.41444048 323.78508333 448.62555952 280.30122222 482.69297222\n",
      " 351.14166667 435.75431349 403.00873413 488.56608333 263.17075794\n",
      " 451.4272381  435.67237302 427.24175794 423.53182143 445.48369444\n",
      " 421.93973413 415.86581349 322.67349603 474.34396032 505.3102381\n",
      " 403.28096032 491.75857937 466.85456746 459.03234127 445.80443651\n",
      " 547.36288095 295.55497619 427.75355556 464.99825    447.4919881\n",
      " 436.25443651 439.76763889 402.13127778 455.46096429 379.18277381\n",
      " 347.60471429 457.0276627  417.81209524 356.19903968 415.75575397\n",
      " 406.68378571 352.99257937 367.26350397 484.73513492 539.55671825\n",
      " 391.64690079 446.52028571 381.74745635 395.53706349 337.57643651\n",
      " 412.58602381 373.84794841 442.38907937 443.29878175 465.6025873\n",
      " 558.85619841 488.39793254 277.18581746 472.26137698 388.36464286\n",
      " 475.03052778 489.55274206 458.02434921 496.78018254 488.95779365\n",
      " 406.2411746  310.75196429 370.73290079 372.47746429 258.31536508\n",
      " 507.14192063 331.79312302 273.6361746  442.97313492 490.9184127\n",
      " 445.24838095 305.39186905 457.64462302 365.70449206 461.38423016\n",
      " 361.48540873 382.79889683 375.19017063 367.93230952 385.03894048\n",
      " 383.01103571 383.28365476 385.03894048 366.77052381 372.60287302\n",
      " 385.94334127 384.95084524 251.39705159 410.97139683 408.76657937\n",
      " 429.56147222 413.06443651 391.31507937 382.0416746  349.72875\n",
      " 361.48373016 326.73235317 333.51711508 355.43657143 436.0953254\n",
      " 345.044      333.23640873 355.28591667 317.60034127 326.64545635\n",
      " 377.5399127  267.4630754  270.40339286 270.63607143 248.22718254\n",
      " 280.0994246  253.3962619  180.13684127 325.51851984 405.62245635\n",
      " 301.87692857 246.66356746 298.48494444 236.94220238 379.50757937\n",
      " 292.20245238 352.28687302 333.39497222 247.51134127 356.72989683\n",
      " 339.73813492 185.47198413 284.0696746  443.1692619  220.51613095\n",
      " 565.58858333 427.68420238 396.59885714 537.50773413 564.81829762\n",
      " 608.20155952 449.52290873 390.51048016 317.91613492 270.95538492\n",
      " 374.67855952 275.85652381 313.1788373  247.63035714 291.06716667\n",
      " 344.34759921 366.36994444 281.92095635 373.28898016 304.70712302\n",
      " 420.87304762 259.53165873 333.11138492 457.86037302 449.55896825\n",
      " 459.85482937 470.23055159 449.63284127 438.93074603 419.25797222\n",
      " 449.80439286 263.64259127 322.61318651 257.30072222 448.01926587\n",
      " 447.32289683 451.67462302 435.55744841 491.08990079 411.4488254\n",
      " 301.89842063 359.74973413 388.80259524 287.66666667 446.45147222\n",
      " 480.21180952 479.46724603 500.92268651 327.63468254 524.06193651\n",
      " 567.57749206 558.12696032 557.15577381 524.28466667 522.27964683\n",
      " 550.07093254 573.71609127 600.87682143 549.39596825 550.96307937\n",
      " 599.57870238 519.37469444 597.5621746  602.68939683 570.5163373\n",
      " 592.17629365 607.30578968 563.58536508 575.07488095 613.89948016\n",
      " 553.29004365 578.12713095 538.4005873  579.28058333 592.41329762\n",
      " 575.99524603 501.77273413 455.06628968 569.56141667 341.93504762\n",
      " 354.93431349 305.6520873  339.23976984 350.90161111 345.53911508\n",
      " 276.34047222 343.21820635 514.64253968 335.41548016]\n",
      "Mean Squared Error: 25.195279293597025\n"
     ]
    }
   ],
   "source": [
    "best_model = rs.best_estimator_\n",
    "\n",
    "# train_rf_predictions = best_model.predict(X_4_train)\n",
    "# train_rf_probs = best_model.predict_proba(X_4_train)[:, 1]\n",
    "# print(\"train_rf_predictions\", train_rf_predictions.shape, train_rf_predictions)\n",
    "# print(\"train_rf_probs\", train_rf_probs.shape, train_rf_probs)\n",
    "\n",
    "#TODO\n",
    "rf_predictions = best_model.predict(X_4_test)\n",
    "# rf_probs = best_model.predict_proba(X_4_test)[:, 1]\n",
    "print(\"rf_predictions\", rf_predictions.shape, rf_predictions)\n",
    "# print(\"rf_probs\", rf_probs.shape, rf_probs)\n",
    "\n",
    "print('Mean Squared Error:', metrics.mean_squared_error(y_4_test, rf_predictions))"
   ]
  },
  {
   "cell_type": "code",
   "execution_count": null,
   "metadata": {},
   "outputs": [],
   "source": []
  },
  {
   "cell_type": "code",
   "execution_count": 219,
   "metadata": {},
   "outputs": [],
   "source": [
    "def plot_confusion_matrix(cm, classes,\n",
    "                          normalize=False,\n",
    "                          title='Confusion matrix',\n",
    "                          cmap=plt.cm.Oranges):\n",
    "    \"\"\"\n",
    "    This function prints and plots the confusion matrix.\n",
    "    Normalization can be applied by setting `normalize=True`.\n",
    "    Source: http://scikit-learn.org/stable/auto_examples/model_selection/plot_confusion_matrix.html\n",
    "    \"\"\"\n",
    "    if normalize:\n",
    "        cm = cm.astype('float') / cm.sum(axis=1)[:, np.newaxis]\n",
    "        print(\"Normalized confusion matrix\")\n",
    "    else:\n",
    "        print('Confusion matrix, without normalization')\n",
    "\n",
    "    print(cm)\n",
    "\n",
    "    plt.figure(figsize = (10, 10))\n",
    "    plt.imshow(cm, interpolation='nearest', cmap=cmap)\n",
    "    plt.title(title, size = 24)\n",
    "    plt.colorbar(aspect=4)\n",
    "    tick_marks = np.arange(len(classes))\n",
    "    plt.xticks(tick_marks, classes, rotation=45, size = 14)\n",
    "    plt.yticks(tick_marks, classes, size = 14)\n",
    "\n",
    "    fmt = '.2f' if normalize else 'd'\n",
    "    thresh = cm.max() / 2.\n",
    "    \n",
    "    # Labeling the plot\n",
    "    for i, j in itertools.product(range(cm.shape[0]), range(cm.shape[1])):\n",
    "        plt.text(j, i, format(cm[i, j], fmt), fontsize = 20,\n",
    "                 horizontalalignment=\"center\",\n",
    "                 color=\"white\" if cm[i, j] > thresh else \"black\")\n",
    "        \n",
    "    plt.grid(None)\n",
    "    plt.tight_layout()\n",
    "    plt.ylabel('True label', size = 18)\n",
    "    plt.xlabel('Predicted label', size = 18)"
   ]
  },
  {
   "cell_type": "code",
   "execution_count": 164,
   "metadata": {},
   "outputs": [
    {
     "ename": "NameError",
     "evalue": "name 'rf_predictions' is not defined",
     "output_type": "error",
     "traceback": [
      "\u001b[1;31m---------------------------------------------------------------------------\u001b[0m",
      "\u001b[1;31mNameError\u001b[0m                                 Traceback (most recent call last)",
      "\u001b[1;32m<ipython-input-164-23223180b29a>\u001b[0m in \u001b[0;36m<module>\u001b[1;34m\u001b[0m\n\u001b[1;32m----> 1\u001b[1;33m \u001b[0mcm\u001b[0m \u001b[1;33m=\u001b[0m \u001b[0mconfusion_matrix\u001b[0m\u001b[1;33m(\u001b[0m\u001b[0my_4_train\u001b[0m\u001b[1;33m,\u001b[0m \u001b[0mrf_predictions\u001b[0m\u001b[1;33m)\u001b[0m \u001b[1;31m#TODO test not train\u001b[0m\u001b[1;33m\u001b[0m\u001b[1;33m\u001b[0m\u001b[0m\n\u001b[0m\u001b[0;32m      2\u001b[0m plot_confusion_matrix(cm, classes = ['Disqualified Votes', 'Qualified Votes'],\n\u001b[0;32m      3\u001b[0m                       title = 'Qualified Votes Confusion Matrix')\n",
      "\u001b[1;31mNameError\u001b[0m: name 'rf_predictions' is not defined"
     ]
    }
   ],
   "source": [
    "cm = confusion_matrix(y_4_train, rf_predictions) #TODO test not train\n",
    "plot_confusion_matrix(cm, classes = ['Disqualified Votes', 'Qualified Votes'],\n",
    "                      title = 'Qualified Votes Confusion Matrix')"
   ]
  },
  {
   "cell_type": "markdown",
   "metadata": {},
   "source": [
    "# 5) ADABOST"
   ]
  },
  {
   "cell_type": "code",
   "execution_count": 26,
   "metadata": {},
   "outputs": [
    {
     "name": "stderr",
     "output_type": "stream",
     "text": [
      "C:\\Users\\MuhammadZbeedat\\Anaconda3\\lib\\site-packages\\sklearn\\model_selection\\_split.py:657: Warning: The least populated class in y has only 1 members, which is too few. The minimum number of members in any class cannot be less than n_splits=5.\n",
      "  % (min_groups, self.n_splits)), Warning)\n",
      "C:\\Users\\MuhammadZbeedat\\Anaconda3\\lib\\site-packages\\sklearn\\model_selection\\_search.py:813: DeprecationWarning: The default of the `iid` parameter will change from True to False in version 0.22 and will be removed in 0.24. This will change numeric results when test-set sizes are unequal.\n",
      "  DeprecationWarning)\n"
     ]
    },
    {
     "name": "stdout",
     "output_type": "stream",
     "text": [
      "Best Parameters:\n",
      " {'learning_rate': 0.1, 'n_estimators': 50, 'random_state': 1}\n"
     ]
    }
   ],
   "source": [
    "adb = AdaBoostClassifier()\n",
    "\n",
    "# adb_param_grid = {'n_estimators':[50,100,150,200,250], #Number of weak learners to train iteratively., \n",
    "#                   'learning_rate':[0.001, 0.01, 0.1, 1], #It contributes to the weights of weak learners. It uses 1 as a default value.,\n",
    "#                   'random_state': [1]}\n",
    "\n",
    "adb_param_grid = {'n_estimators':[50], #Number of weak learners to train iteratively., \n",
    "                  'learning_rate':[0.1, 1], #It contributes to the weights of weak learners. It uses 1 as a default value.,\n",
    "                  'random_state': [1]}\n",
    "\n",
    "# gsADB = GridSearchCV(adb,param_grid = adb_param_grid, cv=5, scoring=\"accuracy\", n_jobs= -1)\n",
    "gsADB = GridSearchCV(adb,param_grid = adb_param_grid, cv=5, n_jobs= -1)\n",
    "\n",
    "gsADB.fit(X_5_train,y_5_train)\n",
    "\n",
    "ADB_best = gsADB.best_estimator_\n",
    "\n",
    "\n",
    "print(\"Best Parameters:\\n\", gsADB.best_params_)"
   ]
  },
  {
   "cell_type": "code",
   "execution_count": 193,
   "metadata": {},
   "outputs": [
    {
     "name": "stdout",
     "output_type": "stream",
     "text": [
      "(914, 40) [[15 7264 6100 ... 0 0 84]\n",
      " [15 7265 6100 ... 0 0 128]\n",
      " [15 7266 6100 ... 0 0 88]\n",
      " ...\n",
      " [6 2487 1139 ... 0 0 17]\n",
      " [6 2488 1139 ... 1 0 8]\n",
      " [6 2489 1139 ... 0 0 18]]\n",
      "\n",
      "\n",
      " (914, 39) [[15 6100 1.1 ... 0 0 84]\n",
      " [15 6100 1.2 ... 0 0 128]\n",
      " [15 6100 1.3 ... 0 0 88]\n",
      " ...\n",
      " [6 1139 67.0 ... 0 0 17]\n",
      " [6 1139 68.0 ... 1 0 8]\n",
      " [6 1139 69.0 ... 0 0 18]]\n"
     ]
    }
   ],
   "source": [
    "\n",
    "df_23_filtered = df_23.loc[df_23['שם ישוב'].isin(['ירושלים', 'סכנין', 'בני ברק', 'דאלית אל כרמל', 'כרמיאל'])]\n",
    "\n",
    "X_23_filtered = df_23_filtered.values #.drop(['שם ישוב'], axis=1).values\n",
    "X_23_filtered = np.delete(X_23_filtered,[2],1) # drop Locality name column\n",
    "print(X_23_filtered.shape, X_23_filtered)\n",
    "\n",
    "\n",
    "# Only locality without kalpi\n",
    "# df_c_23_filtered = df_c_23.loc[df_c_23['שם ישוב'].isin(['ירושלים', 'סחנין', 'בני ברק', 'דאלית אל כרמל', 'כרמיאל'])]\n",
    "# X_c_23 = df_c_23_filtered.values #.drop(['שם ישוב'], axis=1).values\n",
    "# X_c_23 = np.delete(X_23,[1],1) # drop Locality name column\n",
    "\n",
    "# print(\"\\n\\n\", X_c_23.shape, X_c_23)"
   ]
  },
  {
   "cell_type": "markdown",
   "metadata": {},
   "source": [
    "## Likud votes"
   ]
  },
  {
   "cell_type": "code",
   "execution_count": 190,
   "metadata": {},
   "outputs": [
    {
     "name": "stdout",
     "output_type": "stream",
     "text": [
      "X_Likud_train: \n",
      " (10901, 39) [[967 1.0 1 ... 0 0 0]\n",
      " [967 2.0 1 ... 0 0 0]\n",
      " [967 3.0 1 ... 0 0 0]\n",
      " ...\n",
      " [970 1.0 1 ... 0 0 0]\n",
      " [1346 1.0 1 ... 0 1 2]\n",
      " [778 1.0 1 ... 0 0 48]]\n",
      "y_Likud_train: \n",
      " (10901, 1) [[  0]\n",
      " [  2]\n",
      " [  1]\n",
      " ...\n",
      " [  2]\n",
      " [ 63]\n",
      " [202]]\n"
     ]
    }
   ],
   "source": [
    "X_Likud_train = np.delete(X[:, 3:],[28],1) # Without Likud data\n",
    "y_Likud_train = X[:, [28]] # Likud votes              \n",
    "\n",
    "y_Likud_train = y_Likud_train.astype('int')\n",
    "\n",
    "print(\"X_Likud_train: \\n\", X_Likud_train.shape, X_Likud_train)\n",
    "print(\"y_Likud_train: \\n\", y_Likud_train.shape, y_Likud_train)"
   ]
  },
  {
   "cell_type": "code",
   "execution_count": 101,
   "metadata": {},
   "outputs": [
    {
     "name": "stderr",
     "output_type": "stream",
     "text": [
      "C:\\Users\\MuhammadZbeedat\\Anaconda3\\lib\\site-packages\\sklearn\\utils\\validation.py:724: DataConversionWarning: A column-vector y was passed when a 1d array was expected. Please change the shape of y to (n_samples, ), for example using ravel().\n",
      "  y = column_or_1d(y, warn=True)\n"
     ]
    },
    {
     "data": {
      "text/plain": [
       "array([0.    , 0.    , 0.    , 0.    , 0.    , 0.    , 0.0044, 0.    ,\n",
       "       0.    , 0.    , 0.    , 0.    , 0.    , 0.    , 0.    , 0.    ,\n",
       "       0.    , 0.    , 0.    , 0.    , 0.    , 0.    , 0.    , 0.    ,\n",
       "       0.    , 0.9956, 0.    , 0.    , 0.    , 0.    , 0.    , 0.    ,\n",
       "       0.    , 0.    , 0.    , 0.    , 0.    , 0.    , 0.    ])"
      ]
     },
     "execution_count": 101,
     "metadata": {},
     "output_type": "execute_result"
    }
   ],
   "source": [
    "adb_Likud = AdaBoostClassifier(ADB_best)\n",
    "adb_Likud.fit(X_Likud_train,y_Likud_train)\n",
    "\n",
    "adb_Likud.feature_importances_"
   ]
  },
  {
   "cell_type": "code",
   "execution_count": 194,
   "metadata": {},
   "outputs": [
    {
     "name": "stdout",
     "output_type": "stream",
     "text": [
      "X_Likud_test:  (914, 39) \n",
      " [[15 7264 6100 ... 0 0 84]\n",
      " [15 7265 6100 ... 0 0 128]\n",
      " [15 7266 6100 ... 0 0 88]\n",
      " ...\n",
      " [6 2487 1139 ... 0 0 17]\n",
      " [6 2488 1139 ... 1 0 8]\n",
      " [6 2489 1139 ... 0 0 18]]\n",
      "y_Likud_test:  (914,) [0 0 0 0 0 0 0 0 0 0 0 0 0 0 0 0 0 0 0 0 0 0 0 0 1 0 1 0 0 0 0 0 0 0 0 0 0\n",
      " 0 0 0 0 0 0 0 0 0 0 0 0 0 0 0 0 0 0 0 0 0 0 0 0 0 0 0 0 0 0 0 0 0 0 0 0 0\n",
      " 0 0 0 0 0 0 0 0 0 0 0 0 0 0 0 0 0 0 0 0 0 0 1 0 0 0 0 0 0 0 2 0 0 0 0 0 0\n",
      " 0 0 0 0 0 0 0 0 0 0 0 0 0 0 0 0 0 0 0 0 0 0 0 0 0 0 0 0 0 0 0 0 0 0 0 0 0\n",
      " 0 0 0 0 0 0 0 0 0 0 0 0 0 0 0 0 0 0 0 0 0 0 0 0 0 0 0 0 0 0 0 0 0 0 0 0 0\n",
      " 0 0 0 1 0 0 0 0 0 0 0 0 0 0 0 0 1 0 0 0 0 0 0 0 0 0 0 0 0 0 0 0 0 0 0 0 0\n",
      " 0 0 0 0 0 0 0 0 0 0 0 0 0 0 0 0 1 0 0 0 0 0 0 0 0 3 0 0 0 0 0 0 0 0 0 0 0\n",
      " 0 0 0 0 0 0 0 0 0 0 1 0 0 0 0 0 0 0 0 0 0 0 0 0 0 0 0 0 0 0 0 0 0 0 0 0 0\n",
      " 0 0 0 0 0 0 0 0 0 0 0 0 1 0 0 0 0 0 0 0 1 0 0 0 0 0 0 0 0 0 0 0 0 0 0 0 0\n",
      " 0 0 0 0 0 0 0 0 0 0 0 0 0 1 0 0 0 0 0 0 0 2 0 0 0 0 0 0 0 0 0 0 0 0 0 0 0\n",
      " 0 0 0 0 0 0 0 0 0 0 0 0 0 1 0 0 0 0 0 0 0 0 0 0 0 0 0 0 0 0 0 0 0 0 0 0 0\n",
      " 0 0 0 0 0 0 0 0 0 0 0 0 0 0 0 0 0 0 0 0 0 0 0 0 0 0 0 0 0 0 0 0 0 0 0 0 0\n",
      " 0 0 0 0 0 0 0 0 0 0 0 0 0 0 0 0 0 0 0 0 0 0 1 0 0 0 0 0 0 0 0 0 0 0 0 0 0\n",
      " 0 0 0 0 0 0 0 0 0 0 0 0 0 0 0 0 0 0 0 0 0 0 0 0 1 0 0 0 0 0 0 0 0 0 0 0 0\n",
      " 0 0 0 0 0 0 0 0 0 0 0 0 0 0 0 0 0 0 0 0 0 0 0 0 0 0 0 0 0 0 0 0 0 0 0 0 0\n",
      " 0 0 0 0 0 0 0 0 0 0 0 0 5 0 0 0 0 0 0 0 0 0 0 0 0 0 0 0 0 0 0 0 0 0 0 0 0\n",
      " 0 0 0 0 1 0 0 0 0 0 0 0 0 0 0 0 0 0 0 0 0 0 1 0 0 0 0 0 0 0 0 1 0 0 0 0 0\n",
      " 0 0 0 0 0 0 0 0 0 0 0 0 0 0 0 0 0 0 0 0 0 0 0 1 0 0 0 0 0 0 0 0 0 0 0 0 0\n",
      " 0 0 1 0 0 0 0 0 0 0 1 0 0 0 0 0 0 0 0 0 0 0 0 0 0 0 0 0 0 0 0 0 0 0 0 0 0\n",
      " 0 0 0 0 0 0 0 0 0 0 0 0 0 0 0 0 0 0 0 0 0 0 0 0 0 0 1 0 0 0 0 0 0 0 0 0 0\n",
      " 0 0 0 0 0 1 0 0 0 6 0 0 1 0 0 0 0 0 1 0 0 0 0 0 0 1 0 0 0 0 0 1 0 0 0 0 0\n",
      " 0 0 0 0 0 0 0 0 0 0 0 0 0 0 0 0 0 0 0 0 0 2 0 0 0 0 0 0 0 0 0 0 0 0 0 0 1\n",
      " 0 0 0 0 0 0 0 0 0 0 0 0 0 0 0 0 0 0 0 0 0 0 0 0 0 0 0 0 0 0 0 0 1 0 0 0 0\n",
      " 0 0 0 0 0 0 0 0 0 0 0 0 0 0 1 0 0 0 0 0 0 0 0 0 0 0 0 0 0 0 0 0 0 0 0 0 0\n",
      " 0 0 0 1 0 0 0 0 0 0 0 0 1 0 0 0 0 1 0 0 0 0 0 0 0 0]\n"
     ]
    }
   ],
   "source": [
    "# X_23_filtered[:, [3, 4, 5, 6, 7, 9, 10]] #.reshape(-1, 1)\n",
    "X_Likud_test = np.delete(X_23_filtered,[28],1) # Without Likud data  \n",
    "y_Likud_test = X_23_filtered[:, 28] # Likud votes\n",
    "\n",
    "print(\"X_Likud_test: \",  X_Likud_test.shape, \"\\n\", X_Likud_test)\n",
    "print(\"y_Likud_test: \",  y_Likud_test.shape, y_Likud_test)"
   ]
  },
  {
   "cell_type": "code",
   "execution_count": 195,
   "metadata": {},
   "outputs": [
    {
     "name": "stdout",
     "output_type": "stream",
     "text": [
      "Mean Squared Error: 723.9442013129103\n",
      "Predicted values:  [ 13  15  24   5   9   0   3   0   4   9   6  12   0   2   2   0   0   3\n",
      "   5   9  15  37  22  15  15  37  22  23   7  12   0   2   0   5   0   0\n",
      "   5   0   4   0   7   9   0   9   0   0   0   0   0   0   0   6   0   0\n",
      "   2   0   0   0   0   0   0   3   0   0   0   0   0   0   0   0   0   0\n",
      "   0   0   0   0   0   0   0   0   0   0   0   0   0   0   0   0   0   0\n",
      "   0   0   0   0   0   0   0   6   2   3   0   5   4   5   0   0   0   0\n",
      "   0   0   0   0   0   0   0   0   9   7   0   0   0   0   0   0   0   0\n",
      "   4   0   0   0   0   0   0   0   0   0   2   9   0   0   0   0   0   0\n",
      "  13   0   0   0   0   0   0   0   0   0   0   0   0   0   0   0   2   0\n",
      "   0   0   0   0   0   0   2   0   0   0   4   0  12   6   6   3  37  12\n",
      "  12   6   6   9  37  37  37  22  44  37  22  22   9  15  37  37  44  37\n",
      "  48  47  22   0  22  22  22  56  44  63  22  22  44  37  47  37  37  44\n",
      "  37  37   9  12  15  37   0   0   0   3   0   0   0   0   0   0   0   7\n",
      "   0   9   6   5  12  12   7  13  15   3  12   0   0   9  15  37   0  22\n",
      "  37  63  44  56  44  22  37   5   0  37  37  63   0   0   0   0   0   0\n",
      "   0   0   0   0   0   0   0   0   0   0   4   2   0   0   0   2   0   0\n",
      "   2   0   0   0   0   0   0   7  12   9  15   0   0   0   0   2   0   0\n",
      "   4   4   0   7   4   3   6   5   2   7   3  12   6   0   7   9   7   4\n",
      "   0   9   0   2   2   4   3   5   6   2   2   5   2   4   9   6   5   4\n",
      "   6   5   5  12   9   6   5  22   0   6   7   3   3   0   0   3   7   0\n",
      "   3   0   2   0   3   0   0   0   0   0   0   0   0   0   0   0   0   0\n",
      "   0   0   0   0   0   0   0   0   0   2   2   0   4   9   2   3   3   4\n",
      "   9   5  12   7   0   2   0   2   0   0   0   0   0   0   0   0   4   6\n",
      "   2   0   0   0   0   0   0   0   0   0   0   0   0   0   0   0   0   0\n",
      "   0   0   0   0   0   0   0   0   0   9   0   0   0   0   0   0   2   0\n",
      "   0   0   0   0   0   0   0  15  13   0   0   0   0   0   0   0   0   0\n",
      "   0   0   0   0   0   0   0   0   0   0   0   0   3   0   0   0   0   0\n",
      "   0   0   0   0   0   5   4   0   3   0   0   3   0   2   5   7   0   0\n",
      "   0   3   0   0   9  12  15  22   0   0   0   0   0   0   0   0   0   0\n",
      "   0   0   0   0   0   0  15  22  15  15   3   2   5  15  12  15  15  15\n",
      "  12  22  23   0   0   0   0   0   7   0   9  12   0   0  15  12   2  81\n",
      "   0  15  15   4   3   4   7  15   3   7   7   9   4   5  12   9   0   4\n",
      "   6   6   2   5   4   5   0   4   2   9   0   9   0   9   7   5   2   2\n",
      "   0   6   9   0   6   7   6  12  12  15  24  37  13  12  37  12  22  15\n",
      "  15  22  37   9   5  37  37  23   7  22  15  15  12  37  12   5  12  12\n",
      "  12  22   4  37  66   5  12   3   3   9   9  12   6  22  15  15  37   9\n",
      "  12   4   4  13  22   6  12  13   6   6  22  15  15  15  15  22  56   6\n",
      "  15  15  23  12   2   6  15  23   4  15  12  22   9   9  12  12  56  44\n",
      "  56  72   7   6  15   0   0   0   0   0   0   4  15  37  15   9  22  15\n",
      "  37  44  22  37  12  22   5  37  37  37  15  44  15  37  22  13  22  37\n",
      "  15  15  15  22  37  22  22  12  22  22  23  15  22   7  13   2   0   6\n",
      "   6  12   7   9   5  12   2   4  12  12   9  12   9  37  12  44  22  22\n",
      "  15  15  22  22  15  12  13  15  15  22  15   0  12   9  15  15   7   6\n",
      "   5   4 130   4   9   0   0  15   2  12   9   3   3   4   4   5   2   9\n",
      "   0   5  22   9   6   4   5   6   5   5   3   5   3   4   2   5  12   5\n",
      "   6   6   5   2   6   6   4   5   7   5   5   9   5   9   5   0   9  13\n",
      "   5   9   6   5   3   5   0   0   0   2   0   0   0   2   3   0   0   0\n",
      " 107  56 127  66  37  37  44  47  47  91  88  86  93  44  37  86  63  95\n",
      "  93  66  93  86  66  81  88  93  86  63  37 105  56  83  72  37  37  78\n",
      "  22  66  93  99  63  66  86 118  99 127  22 111 150  44  56  86  81  63\n",
      " 236  86  63  83  86  72  86 105  44  37  24  78  78  66]\n"
     ]
    }
   ],
   "source": [
    "y_pred=adb_Likud.predict(X_Likud_test)\n",
    "\n",
    "print('Mean Squared Error:', metrics.mean_squared_error(y_Likud_test, y_pred))\n",
    "\n",
    "print(\"Predicted values: \", y_pred)"
   ]
  },
  {
   "cell_type": "markdown",
   "metadata": {},
   "source": [
    "## Arabs Common List votes"
   ]
  },
  {
   "cell_type": "code",
   "execution_count": null,
   "metadata": {},
   "outputs": [],
   "source": [
    "X_ArabList_train = np.delete(X[:, 3:],[13],1) # Without ArabicCommonList data\n",
    "y_ArabList_train = X[:, [13]] # ArabicCommonList votes              \n",
    "\n",
    "y_ArabList_train = y_ArabList_train.astype('int')\n",
    "\n",
    "print(\"X_ArabList_train: \\n\", X_ArabList_train.shape, X_ArabList_train)\n",
    "print(\"y_ArabList_train: \\n\", y_ArabList_train.shape, y_ArabList_train)"
   ]
  },
  {
   "cell_type": "code",
   "execution_count": null,
   "metadata": {},
   "outputs": [],
   "source": [
    "adb_ArabList = AdaBoostClassifier(ADB_best)\n",
    "adb_ArabList.fit(X_ArabList_train,y_ArabList_train)\n",
    "\n",
    "adb_ArabList.feature_importances_"
   ]
  },
  {
   "cell_type": "code",
   "execution_count": null,
   "metadata": {},
   "outputs": [],
   "source": [
    "X_ArabList_test = np.delete(X_23_filtered[:, 3:],[28],1) # Without Likud data  \n",
    "y_ArabList_test = X_23_filtered[:, 28] # Likud votes\n",
    "\n",
    "print(\"X_ArabList_test: \",  X_ArabList_test.shape, \"\\n\", X_ArabList_test)\n",
    "print(\"y_ArabList_test: \",  y_ArabList_test.shape, y_ArabList_test)"
   ]
  },
  {
   "cell_type": "code",
   "execution_count": null,
   "metadata": {},
   "outputs": [],
   "source": [
    "y_pred=adb_ArabList.predict(X_ArabList_test)\n",
    "print('Mean Squared Error:', metrics.mean_squared_error(y_ArabList_test, y_pred))"
   ]
  },
  {
   "cell_type": "markdown",
   "metadata": {},
   "source": [
    "## Blue and White votes"
   ]
  },
  {
   "cell_type": "code",
   "execution_count": null,
   "metadata": {},
   "outputs": [],
   "source": [
    "X_BlueWhite_train = np.delete(X[:, 3:],[33],1) # Without BlueWhite data\n",
    "y_BlueWhite_train = X[:, [33]] # BlueWhite votes              \n",
    "\n",
    "y_BlueWhite_train = y_BlueWhite_train.astype('int')\n",
    "\n",
    "print(\"X_BlueWhite_train: \\n\", X_BlueWhite_train.shape, X_BlueWhite_train)\n",
    "print(\"y_BlueWhite_train: \\n\", y_BlueWhite_train.shape, y_BlueWhite_train)"
   ]
  },
  {
   "cell_type": "code",
   "execution_count": null,
   "metadata": {},
   "outputs": [],
   "source": [
    "adb_BlueWhite = AdaBoostClassifier(ADB_best)\n",
    "adb_BlueWhite.fit(X_BlueWhite_train,y_BlueWhite_train)\n",
    "\n",
    "adb_BlueWhite.feature_importances_"
   ]
  },
  {
   "cell_type": "code",
   "execution_count": null,
   "metadata": {},
   "outputs": [],
   "source": [
    "X_BlueWhite_test = np.delete(X_23_filtered[:, 3:],[28],1) # Without Likud data  \n",
    "y_BlueWhite_test = X_23_filtered[:, 28] # Likud votes\n",
    "\n",
    "print(\"X_BlueWhite_test: \",  X_BlueWhite_test.shape, \"\\n\", X_BlueWhite_test)\n",
    "print(\"y_BlueWhite_test: \",  y_BlueWhite_test.shape, y_BlueWhite_test)"
   ]
  },
  {
   "cell_type": "code",
   "execution_count": null,
   "metadata": {},
   "outputs": [],
   "source": [
    "y_pred=adb_ArabList.predict(X_BlueWhite_test)\n",
    "print('Mean Squared Error:', metrics.mean_squared_error(y_BlueWhite_test, y_pred))"
   ]
  },
  {
   "cell_type": "markdown",
   "metadata": {},
   "source": [
    "# 6) Predict where to locate supervisors"
   ]
  },
  {
   "cell_type": "code",
   "execution_count": 243,
   "metadata": {},
   "outputs": [
    {
     "name": "stdout",
     "output_type": "stream",
     "text": [
      "X_6_train: \n",
      " (10901, 7) \n",
      " [[967 1.0 1 ... 559 113 111]\n",
      " [967 2.0 1 ... 751 224 223]\n",
      " [967 3.0 1 ... 651 205 199]\n",
      " ...\n",
      " [970 1.0 1 ... 511 33 33]\n",
      " [1346 1.0 1 ... 574 210 205]\n",
      " [778 1.0 1 ... 565 452 452]]\n",
      "y_6_train: \n",
      " (10901,) \n",
      " [2 1 6 ... 0 5 0]\n"
     ]
    }
   ],
   "source": [
    "X_6_train = X[:, [3, 4, 5, 6, 7, 8, 10]] # \n",
    "y_6_train = X[:, 9] #.ravel() # reshape from (n,1) to (n,) # \n",
    "\n",
    "y_6_train = y_6_train.astype('int')\n",
    "\n",
    "print(\"X_6_train: \\n\", X_6_train.shape, \"\\n\",  X_6_train)\n",
    "print(\"y_6_train: \\n\", y_6_train.shape, \"\\n\", y_6_train)"
   ]
  },
  {
   "cell_type": "code",
   "execution_count": 213,
   "metadata": {},
   "outputs": [
    {
     "name": "stdout",
     "output_type": "stream",
     "text": [
      "X_6_test: \n",
      " (11179, 7) \n",
      " [[967 1.0 1 ... 585 126 124]\n",
      " [967 2.0 1 ... 764 249 247]\n",
      " [967 3.0 1 ... 669 220 218]\n",
      " ...\n",
      " [970 1.0 1 ... 520 48 48]\n",
      " [1346 1.0 1 ... 587 206 206]\n",
      " [778 1.0 1 ... 576 472 471]]\n",
      "\n",
      "y_6_test: \n",
      " (11179,) \n",
      " [2 2 2 ... 0 0 1]\n"
     ]
    }
   ],
   "source": [
    "\n",
    "X_6_test = X_23[:, [2, 3, 4, 5, 6, 7, 9]] #.reshape(-1, 1) \n",
    "y_6_test = X_23[:, 8] # קולות פסולים\n",
    "\n",
    "\n",
    "print(\"X_6_test: \\n\",  X_6_test.shape, \"\\n\", X_6_test)\n",
    "print(\"\\ny_6_test: \\n\",  y_6_test.shape, \"\\n\", y_6_test)"
   ]
  },
  {
   "cell_type": "code",
   "execution_count": 209,
   "metadata": {},
   "outputs": [
    {
     "name": "stdout",
     "output_type": "stream",
     "text": [
      "Fitting 5 folds for each of 1 candidates, totalling 5 fits\n"
     ]
    },
    {
     "name": "stderr",
     "output_type": "stream",
     "text": [
      "[Parallel(n_jobs=-1)]: Using backend LokyBackend with 8 concurrent workers.\n",
      "[Parallel(n_jobs=-1)]: Done   2 out of   5 | elapsed:    4.4s remaining:    6.7s\n",
      "[Parallel(n_jobs=-1)]: Done   5 out of   5 | elapsed:    4.6s finished\n"
     ]
    },
    {
     "data": {
      "text/plain": [
       "{'n_estimators': 100,\n",
       " 'min_samples_split': 10,\n",
       " 'max_features': 'sqrt',\n",
       " 'max_depth': 70,\n",
       " 'bootstrap': False}"
      ]
     },
     "execution_count": 209,
     "metadata": {},
     "output_type": "execute_result"
    }
   ],
   "source": [
    "# Fit using Regressor RandomForest (from section #4)\n",
    "rs.fit(X_6_train, y_6_train)\n",
    "\n",
    "rs.best_params_"
   ]
  },
  {
   "cell_type": "code",
   "execution_count": 210,
   "metadata": {},
   "outputs": [
    {
     "name": "stdout",
     "output_type": "stream",
     "text": [
      "rf_predictions (11179,) [2.0984127  2.77795238 3.19962302 ... 0.86030159 4.31155952 0.80887698]\n",
      "Mean Squared Error: 3.7796552843125113\n"
     ]
    }
   ],
   "source": [
    "best_model = rs.best_estimator_\n",
    "\n",
    "rf_predictions = best_model.predict(X_6_test)\n",
    "# rf_probs = best_model.predict_proba(X_6_test)[:, 1]\n",
    "print(\"rf_predictions\", rf_predictions.shape, rf_predictions)\n",
    "# print(\"rf_probs\", rf_probs.shape, rf_probs)\n",
    "\n",
    "print('Mean Squared Error:', metrics.mean_squared_error(y_6_test, rf_predictions))"
   ]
  },
  {
   "cell_type": "code",
   "execution_count": 244,
   "metadata": {},
   "outputs": [
    {
     "name": "stdout",
     "output_type": "stream",
     "text": [
      "[False False  True ... False  True False]\n",
      "[False False False ... False False False]\n"
     ]
    }
   ],
   "source": [
    "THRESHOLD = 4 # number of disqualified votes\n",
    "\n",
    "train_labels = y_6_train > THRESHOLD\n",
    "print(train_labels)\n",
    "\n",
    "test_labels = rf_predictions > THRESHOLD\n",
    "print(test_labels)"
   ]
  },
  {
   "cell_type": "code",
   "execution_count": 247,
   "metadata": {},
   "outputs": [
    {
     "name": "stdout",
     "output_type": "stream",
     "text": [
      "Fitting 5 folds for each of 1 candidates, totalling 5 fits\n"
     ]
    },
    {
     "name": "stderr",
     "output_type": "stream",
     "text": [
      "[Parallel(n_jobs=-1)]: Using backend LokyBackend with 8 concurrent workers.\n",
      "[Parallel(n_jobs=-1)]: Done   2 out of   5 | elapsed:    4.3s remaining:    6.6s\n",
      "[Parallel(n_jobs=-1)]: Done   5 out of   5 | elapsed:    4.4s finished\n"
     ]
    }
   ],
   "source": [
    "# Estimator for use in random search\n",
    "estimator = RandomForestClassifier(random_state = RSEED)\n",
    "\n",
    "# Create the random search model\n",
    "rs = RandomizedSearchCV(estimator, param_grid, n_jobs = -1, \n",
    "                        scoring = 'accuracy', cv = 5, \n",
    "                        n_iter = 1, verbose = 1, random_state=RSEED)\n",
    "\n",
    "\n",
    "# Fit \n",
    "rs.fit(X_6_train, train_labels)\n",
    "rs.best_params_\n",
    "\n",
    "best_model = rs.best_estimator_"
   ]
  },
  {
   "cell_type": "code",
   "execution_count": 248,
   "metadata": {},
   "outputs": [
    {
     "name": "stdout",
     "output_type": "stream",
     "text": [
      "Predictions:  [False False False ... False  True False]\n",
      "Accuracy: 0.9429287056087307\n",
      "Confusion matrix, without normalization\n",
      "[[10541   638]\n",
      " [    0     0]]\n"
     ]
    },
    {
     "data": {
      "image/png": "[encoded data removed]",
      "text/plain": [
       "<Figure size 720x720 with 2 Axes>"
      ]
     },
     "metadata": {
      "needs_background": "light"
     },
     "output_type": "display_data"
    }
   ],
   "source": [
    "rf_predictions = best_model.predict(X_6_test)\n",
    "rf_probs = best_model.predict_proba(X_6_test)[:, 1]\n",
    "print(\"Predictions: \", rf_predictions)\n",
    "print('Accuracy:', metrics.accuracy_score(test_labels, rf_predictions))\n",
    "\n",
    "cm = confusion_matrix(test_labels, rf_predictions)\n",
    "\n",
    "plot_confusion_matrix(cm, classes = ['No Need for Supervisor', 'Need a Supervisor'],\n",
    "                      title = 'DisQualified Votes Confusion Matrix')"
   ]
  },
  {
   "cell_type": "code",
   "execution_count": null,
   "metadata": {},
   "outputs": [],
   "source": []
  }
 ],
 "metadata": {
  "kernelspec": {
   "display_name": "Python 3",
   "language": "python",
   "name": "python3"
  },
  "language_info": {
   "codemirror_mode": {
    "name": "ipython",
    "version": 3
   },
   "file_extension": ".py",
   "mimetype": "text/x-python",
   "name": "python",
   "nbconvert_exporter": "python",
   "pygments_lexer": "ipython3",
   "version": "3.7.3"
  }
 },
 "nbformat": 4,
 "nbformat_minor": 2
}
